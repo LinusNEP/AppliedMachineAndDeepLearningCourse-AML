{
 "cells": [
  {
   "cell_type": "markdown",
   "metadata": {
    "id": "4sjTjpNnhwoA"
   },
   "source": [
    "## Path planning with A* Algorithm\n",
    "\n",
    " Mobile Robot Path Planning using A* Algorithm\n",
    "#------------------------------------------------------------------#\n",
    "\n",
    " Path planning is crucial for mobile robots to navigate in environments efficiently. \n",
    " A* is a popular search algorithm for finding the shortest path in a grid map, \n",
    " which considers both the cost from the start and the estimated cost to the goal."
   ]
  },
  {
   "cell_type": "markdown",
   "metadata": {},
   "source": [
    "### Step 1: Import libraries\n",
    " Make sure you have the necessary packages installed. You may need to restart your notebook after the installation."
   ]
  },
  {
   "cell_type": "code",
   "execution_count": 29,
   "metadata": {
    "colab": {
     "base_uri": "https://localhost:8080/"
    },
    "executionInfo": {
     "elapsed": 1238,
     "status": "ok",
     "timestamp": 1688606365062,
     "user": {
      "displayName": "Sovit Rath",
      "userId": "16116444459058408221"
     },
     "user_tz": -330
    },
    "id": "hqJgchTOh3Os",
    "outputId": "b8ab25fb-a11f-4c9e-9f60-dd446fe44073"
   },
   "outputs": [],
   "source": [
    "import numpy as np\n",
    "import matplotlib.pyplot as plt\n",
    "from heapq import heappush, heappop # Priority Queue for faster node expansion\n",
    "show_animation = True  # Enable/Disable visualization"
   ]
  },
  {
   "cell_type": "markdown",
   "metadata": {},
   "source": [
    "### Step 2: Grid Map Definition"
   ]
  },
  {
   "cell_type": "code",
   "execution_count": 30,
   "metadata": {},
   "outputs": [],
   "source": [
    "# A grid is used to represent the environment. Each cell can either be an obstacle or free space.\n",
    "\n",
    "def create_grid(rows, cols, obstacles):\n",
    "    grid = np.zeros((rows, cols))\n",
    "    for obstacle in obstacles:\n",
    "        grid[obstacle] = 1\n",
    "    return grid"
   ]
  },
  {
   "cell_type": "markdown",
   "metadata": {},
   "source": [
    "### Step 3: Example Grid Map"
   ]
  },
  {
   "cell_type": "code",
   "execution_count": 31,
   "metadata": {
    "colab": {
     "base_uri": "https://localhost:8080/"
    },
    "executionInfo": {
     "elapsed": 4,
     "status": "ok",
     "timestamp": 1688606365063,
     "user": {
      "displayName": "Sovit Rath",
      "userId": "16116444459058408221"
     },
     "user_tz": -330
    },
    "id": "ZrgajbVrh6x9",
    "outputId": "dd3aa705-e42f-4120-cb43-e8898f033b1f"
   },
   "outputs": [],
   "source": [
    "# Example of 10x10 grid with some obstacles\n",
    "rows, cols = 10, 10\n",
    "obstacles = [(3, 3), (3, 4), (4, 4), (5, 5), (5, 6)]\n",
    "grid = create_grid(rows, cols, obstacles)"
   ]
  },
  {
   "cell_type": "markdown",
   "metadata": {},
   "source": [
    "### Step 4: Plotting the Environment"
   ]
  },
  {
   "cell_type": "code",
   "execution_count": 32,
   "metadata": {},
   "outputs": [
    {
     "data": {
      "image/png": "[encoded data removed]",
      "text/plain": [
       "<Figure size 432x432 with 1 Axes>"
      ]
     },
     "metadata": {
      "needs_background": "light"
     },
     "output_type": "display_data"
    }
   ],
   "source": [
    "# We can visualize the grid with obstacles.\n",
    "\n",
    "def plot_grid(grid, start, goal, path=None):\n",
    "    plt.figure(figsize=(6, 6))\n",
    "    plt.imshow(grid, cmap='Greys', origin='upper')\n",
    "    plt.scatter(start[1], start[0], marker='o', color='green', label=\"Start\")\n",
    "    plt.scatter(goal[1], goal[0], marker='x', color='red', label=\"Goal\")\n",
    "    \n",
    "    if path:\n",
    "        for point in path:\n",
    "            plt.scatter(point[1], point[0], marker='.', color='blue')\n",
    "    \n",
    "    plt.legend()\n",
    "    plt.grid(True)\n",
    "    plt.show()\n",
    "\n",
    "start = (0, 0)\n",
    "goal = (9, 9)\n",
    "plot_grid(grid, start, goal)"
   ]
  },
  {
   "cell_type": "markdown",
   "metadata": {},
   "source": [
    "### Step 5: A* Algorithm Implementation\n",
    "The A* algorithm works by maintaining a priority queue of nodes to explore, \n",
    "and always expanding the node with the lowest f(x) = g(x) + h(x), \n",
    "where g(x) is the cost from start to the current node, and h(x) is the heuristic estimate of cost from current node to goal."
   ]
  },
  {
   "cell_type": "code",
   "execution_count": 33,
   "metadata": {
    "colab": {
     "base_uri": "https://localhost:8080/",
     "height": 1000
    },
    "executionInfo": {
     "elapsed": 24385,
     "status": "ok",
     "timestamp": 1688606389445,
     "user": {
      "displayName": "Sovit Rath",
      "userId": "16116444459058408221"
     },
     "user_tz": -330
    },
    "id": "VTHv38whkGt_",
    "outputId": "13be8467-cf52-424c-992f-f53b5e58e3c2"
   },
   "outputs": [],
   "source": [
    "def heuristic(a, b):\n",
    "    # Manhattan distance\n",
    "    return abs(a[0] - b[0]) + abs(a[1] - b[1])\n",
    "\n",
    "def a_star(grid, start, goal):\n",
    "    rows, cols = grid.shape\n",
    "    open_list = []\n",
    "    heappush(open_list, (0 + heuristic(start, goal), 0, start))\n",
    "    came_from = {start: None}\n",
    "    g_score = {start: 0}\n",
    "    \n",
    "    while open_list:\n",
    "        _, current_g, current = heappop(open_list)\n",
    "        \n",
    "        if current == goal:\n",
    "            path = []\n",
    "            while current:\n",
    "                path.append(current)\n",
    "                current = came_from[current]\n",
    "            return path[::-1]\n",
    "        \n",
    "        neighbors = [(0, 1), (1, 0), (0, -1), (-1, 0)]\n",
    "        for dx, dy in neighbors:\n",
    "            neighbor = (current[0] + dx, current[1] + dy)\n",
    "            if 0 <= neighbor[0] < rows and 0 <= neighbor[1] < cols and grid[neighbor] == 0:\n",
    "                tentative_g = current_g + 1\n",
    "                if neighbor not in g_score or tentative_g < g_score[neighbor]:\n",
    "                    g_score[neighbor] = tentative_g\n",
    "                    f_score = tentative_g + heuristic(neighbor, goal)\n",
    "                    heappush(open_list, (f_score, tentative_g, neighbor))\n",
    "                    came_from[neighbor] = current\n",
    "    \n",
    "    return None  # No path found\n"
   ]
  },
  {
   "cell_type": "markdown",
   "metadata": {
    "id": "NLXEx7TTiOQ_"
   },
   "source": [
    "### Step 6: Finding and Visualizing the Path\n",
    "Now, we use the A* algorithm to find a path and visualize it."
   ]
  },
  {
   "cell_type": "code",
   "execution_count": 34,
   "metadata": {},
   "outputs": [
    {
     "name": "stdout",
     "output_type": "stream",
     "text": [
      "Path found: [(0, 0), (0, 1), (0, 2), (0, 3), (0, 4), (0, 5), (0, 6), (0, 7), (0, 8), (0, 9), (1, 9), (2, 9), (3, 9), (4, 9), (5, 9), (6, 9), (7, 9), (8, 9), (9, 9)]\n"
     ]
    },
    {
     "data": {
      "image/png": "[encoded data removed]",
      "text/plain": [
       "<Figure size 432x432 with 1 Axes>"
      ]
     },
     "metadata": {
      "needs_background": "light"
     },
     "output_type": "display_data"
    }
   ],
   "source": [
    "path = a_star(grid, start, goal)\n",
    "if path:\n",
    "    print(f\"Path found: {path}\")\n",
    "    plot_grid(grid, start, goal, path)\n",
    "else:\n",
    "    print(\"No path found\")"
   ]
  },
  {
   "cell_type": "code",
   "execution_count": null,
   "metadata": {},
   "outputs": [],
   "source": []
  }
 ],
 "metadata": {
  "accelerator": "GPU",
  "colab": {
   "authorship_tag": "ABX9TyP5pP21KdA5S82+MVCnEAMG",
   "provenance": []
  },
  "kernelspec": {
   "display_name": "Python (linus_env)",
   "language": "python",
   "name": "linus_env"
  },
  "language_info": {
   "codemirror_mode": {
    "name": "ipython",
    "version": 3
   },
   "file_extension": ".py",
   "mimetype": "text/x-python",
   "name": "python",
   "nbconvert_exporter": "python",
   "pygments_lexer": "ipython3",
   "version": "3.8.10"
  }
 },
 "nbformat": 4,
 "nbformat_minor": 1
}
