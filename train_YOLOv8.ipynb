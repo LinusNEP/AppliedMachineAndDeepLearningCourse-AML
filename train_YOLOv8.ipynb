{
 "cells": [
  {
   "cell_type": "markdown",
   "metadata": {
    "id": "4sjTjpNnhwoA"
   },
   "source": [
    "## Training YOLOv8 on EnvoDat dataset"
   ]
  },
  {
   "cell_type": "markdown",
   "metadata": {},
   "source": [
    "### Step 1: Install YOLOv8 Dependencies\n",
    " Make sure you have the necessary packages installed. You may need to restart your notebook after the installation."
   ]
  },
  {
   "cell_type": "code",
   "execution_count": null,
   "metadata": {
    "colab": {
     "base_uri": "https://localhost:8080/"
    },
    "executionInfo": {
     "elapsed": 1238,
     "status": "ok",
     "timestamp": 1688606365062,
     "user": {
      "displayName": "Sovit Rath",
      "userId": "16116444459058408221"
     },
     "user_tz": -330
    },
    "id": "hqJgchTOh3Os",
    "outputId": "b8ab25fb-a11f-4c9e-9f60-dd446fe44073"
   },
   "outputs": [],
   "source": [
    "# Install ultralytics\n",
    "!pip install ultralytics"
   ]
  },
  {
   "cell_type": "code",
   "execution_count": null,
   "metadata": {},
   "outputs": [],
   "source": [
    "!python3 -m pip install --upgrade pip"
   ]
  },
  {
   "cell_type": "markdown",
   "metadata": {},
   "source": [
    "### Step 2: Import the necessary libraries"
   ]
  },
  {
   "cell_type": "code",
   "execution_count": null,
   "metadata": {
    "colab": {
     "base_uri": "https://localhost:8080/"
    },
    "executionInfo": {
     "elapsed": 4,
     "status": "ok",
     "timestamp": 1688606365063,
     "user": {
      "displayName": "Sovit Rath",
      "userId": "16116444459058408221"
     },
     "user_tz": -330
    },
    "id": "ZrgajbVrh6x9",
    "outputId": "dd3aa705-e42f-4120-cb43-e8898f033b1f"
   },
   "outputs": [],
   "source": [
    "import os\n",
    "from ultralytics import YOLO\n",
    "import matplotlib.pyplot as plt"
   ]
  },
  {
   "cell_type": "code",
   "execution_count": null,
   "metadata": {},
   "outputs": [],
   "source": [
    "!python3 -m pip show ultralytics"
   ]
  },
  {
   "cell_type": "markdown",
   "metadata": {},
   "source": [
    "### Step 3: Set up the directories\n",
    "Define the directories for the training, testing and validation sets"
   ]
  },
  {
   "cell_type": "code",
   "execution_count": null,
   "metadata": {
    "colab": {
     "base_uri": "https://localhost:8080/",
     "height": 1000
    },
    "executionInfo": {
     "elapsed": 24385,
     "status": "ok",
     "timestamp": 1688606389445,
     "user": {
      "displayName": "Sovit Rath",
      "userId": "16116444459058408221"
     },
     "user_tz": -330
    },
    "id": "VTHv38whkGt_",
    "outputId": "13be8467-cf52-424c-992f-f53b5e58e3c2"
   },
   "outputs": [],
   "source": [
    "train_images_dir = '/home/linus/AML/AML WS2024/mu-hall-yolov8/train/images' \n",
    "train_labels_dir = '/home/linus/AML/AML WS2024/mu-hall-yolov8/train/labels'  \n",
    "val_images_dir = '/home/linus/AML/AML WS2024/mu-hall-yolov8/val/images'      \n",
    "val_labels_dir = '/home/linus/AML/AML WS2024/mu-hall-yolov8/val/labels'\n",
    "test_images_dir = '/home/linus/AML/AML WS2024/mu-hall-yolov8/test/images' \n",
    "test_labels_dir = '/home/linus/AML/AML WS2024/mu-hall-yolov8/test/labels'  \n"
   ]
  },
  {
   "cell_type": "markdown",
   "metadata": {
    "id": "NLXEx7TTiOQ_"
   },
   "source": [
    "### Step 4: Set up the data.yaml file\n",
    "This YAML file is needed for YOLO to know the paths to your dataset and class names.\n",
    "\n",
    "data_yaml_content = f\"\"\"\n",
    "train: {train_images_dir}\n",
    "val: {val_images_dir}\n",
    "test: {test_images_dir}\n",
    "\n",
    "nc: 20  # Number of object classes\n",
    "\n",
    "names: ['backpack', 'banner', 'carton', 'chair', 'desk', 'door', 'fire extinguisher', 'light bulb', 'miscellaneous', 'motorcycle', 'person', 'pillar', 'staircase', 'step', 'table', 'tiled floor', 'trash bin', 'tree', 'window', 'windows frame']\n",
    "\"\"\"\n",
    "\n",
    "#### Write the data.yaml file\n",
    "with open(\"data.yaml\", \"w\") as yaml_file:\n",
    "\n",
    "    yaml_file.write(data_yaml_content)"
   ]
  },
  {
   "cell_type": "markdown",
   "metadata": {},
   "source": [
    "### Step 5: Load YOLOv8 model (You can specify which model you want, e.g., 'yolov8n', 'yolov8s', 'yolov8m', etc.)"
   ]
  },
  {
   "cell_type": "code",
   "execution_count": null,
   "metadata": {
    "colab": {
     "base_uri": "https://localhost:8080/"
    },
    "executionInfo": {
     "elapsed": 3793,
     "status": "ok",
     "timestamp": 1688606393230,
     "user": {
      "displayName": "Sovit Rath",
      "userId": "16116444459058408221"
     },
     "user_tz": -330
    },
    "id": "Ia1sHpUAiYcf",
    "outputId": "79a49321-8d91-411b-a333-0564b0f7faa1"
   },
   "outputs": [],
   "source": [
    "model = YOLO('yolov8n.pt')  # Using the nano model, change this to your desired model"
   ]
  },
  {
   "cell_type": "markdown",
   "metadata": {
    "id": "r2OW1Xj5ij96"
   },
   "source": [
    "### Step 6: Train the model\n",
    "Set the hyperparameters for training, such as number of epochs, batch size, learning rate etc."
   ]
  },
  {
   "cell_type": "code",
   "execution_count": null,
   "metadata": {
    "colab": {
     "base_uri": "https://localhost:8080/"
    },
    "executionInfo": {
     "elapsed": 53,
     "status": "ok",
     "timestamp": 1688606393231,
     "user": {
      "displayName": "Sovit Rath",
      "userId": "16116444459058408221"
     },
     "user_tz": -330
    },
    "id": "wc1raikijI5b",
    "outputId": "4c25b2c7-2c60-40b5-804e-3c1ff1b5da53"
   },
   "outputs": [],
   "source": [
    "model.train(data='/home/linus/AML/AML WS2024/mu-hall-yolov8/data.yaml', epochs=20, imgsz=640, batch=16)"
   ]
  },
  {
   "cell_type": "markdown",
   "metadata": {},
   "source": [
    "##### Optional Advanced Training Configuration\n",
    "\"\"\"\n",
    "results = model.train(\n",
    "\n",
    "    data=\"data.yaml\",        # Path to the data.yaml file\n",
    "    \n",
    "    epochs=150,              # Number of training epochs\n",
    "    \n",
    "    imgsz=640,               # Image size\n",
    "    \n",
    "    lr0=0.001,               # Initial learning rate\n",
    "    \n",
    "    batch=16,                # Batch size; adjusts how many images are processed in parallel\n",
    "    \n",
    "    weight_decay=0.0005,     # Regularization term to reduce overfitting\n",
    "    \n",
    "    momentum=0.9,            # Momentum for the optimizer, typically between 0.8 and 0.95\n",
    "    \n",
    "    warmup_epochs=3          # Warm-up period for the learning rate\n",
    "    \n",
    ")\n",
    "\"\"\""
   ]
  },
  {
   "cell_type": "markdown",
   "metadata": {
    "id": "-4iJEC0zjzE5"
   },
   "source": [
    "### Step 7: Validate the model on the validation set\n",
    "After training, run validation to evaluate the performance on the validation data\n"
   ]
  },
  {
   "cell_type": "code",
   "execution_count": null,
   "metadata": {
    "colab": {
     "base_uri": "https://localhost:8080/"
    },
    "executionInfo": {
     "elapsed": 740115,
     "status": "ok",
     "timestamp": 1688607133343,
     "user": {
      "displayName": "Sovit Rath",
      "userId": "16116444459058408221"
     },
     "user_tz": -330
    },
    "id": "e1BoCmE3j54d",
    "outputId": "72f3ccdf-62b2-4dd8-f750-0583593f7597"
   },
   "outputs": [],
   "source": [
    "validation_metrics = model.val(split='val')  # This automatically uses the validation split defined in data.yaml"
   ]
  },
  {
   "cell_type": "markdown",
   "metadata": {
    "id": "i0RP6pmDkB8Y"
   },
   "source": [
    "### Step 8: Evaluate the model on the test set\n",
    "Run the evaluation on the test set to see how the model performs on unseen data"
   ]
  },
  {
   "cell_type": "code",
   "execution_count": null,
   "metadata": {
    "executionInfo": {
     "elapsed": 6,
     "status": "ok",
     "timestamp": 1688607133343,
     "user": {
      "displayName": "Sovit Rath",
      "userId": "16116444459058408221"
     },
     "user_tz": -330
    },
    "id": "5MLvgLUbJudR"
   },
   "outputs": [],
   "source": [
    "test_metrics = model.val(split='test')  # This uses the test split from the data.yaml"
   ]
  },
  {
   "cell_type": "markdown",
   "metadata": {
    "id": "3Pk7SHEaLJha"
   },
   "source": [
    "### Step 9: Save the trained model\n",
    "Once you are don training, save the trained model weights for inference or for further fine-tuning."
   ]
  },
  {
   "cell_type": "code",
   "execution_count": null,
   "metadata": {
    "colab": {
     "base_uri": "https://localhost:8080/"
    },
    "executionInfo": {
     "elapsed": 52770,
     "status": "ok",
     "timestamp": 1688607755227,
     "user": {
      "displayName": "Sovit Rath",
      "userId": "16116444459058408221"
     },
     "user_tz": -330
    },
    "id": "1gk6HBTY3JiM",
    "outputId": "952a1738-ef1f-47e9-d7fb-7431d692c331"
   },
   "outputs": [],
   "source": [
    "model.export(format='onnx')  # Exporting to ONNX format (alternatively use 'torchscript', 'engine' etc.)"
   ]
  },
  {
   "cell_type": "markdown",
   "metadata": {
    "id": "mtuz9gfo3O20"
   },
   "source": [
    "### Step 10: Inference (Optional)\n",
    "\n",
    "Test the model on seen images"
   ]
  },
  {
   "cell_type": "code",
   "execution_count": null,
   "metadata": {},
   "outputs": [],
   "source": [
    "%matplotlib inline\n",
    "image_folder = '/home/linus/AML/AML WS2024/seen_images'\n",
    "image_paths = [os.path.join(image_folder, f) for f in os.listdir(image_folder) if f.endswith(('.png', '.jpg', '.jpeg'))]\n",
    "# Run the inference on all images in the folder\n",
    "results = model(image_paths)\n",
    "\n",
    "# Loop through the results and display each one\n",
    "for result in results:\n",
    "    plt.imshow(result.plot()) \n",
    "    plt.axis('off')  \n",
    "    plt.show()  "
   ]
  },
  {
   "cell_type": "markdown",
   "metadata": {},
   "source": [
    "Run the inference on multiple unseen images:"
   ]
  },
  {
   "cell_type": "code",
   "execution_count": null,
   "metadata": {},
   "outputs": [],
   "source": [
    "%matplotlib inline\n",
    "image_folder = '/home/linus/AML/AML WS2024/unseen_images'\n",
    "image_paths = [os.path.join(image_folder, f) for f in os.listdir(image_folder) if f.endswith(('.png', '.jpg', '.jpeg'))]\n",
    "# Run the inference on all images in the folder\n",
    "results = model(image_paths)\n",
    "\n",
    "for result in results:\n",
    "    plt.imshow(result.plot()) \n",
    "    plt.axis('on')  \n",
    "    plt.show()  "
   ]
  },
  {
   "cell_type": "code",
   "execution_count": null,
   "metadata": {},
   "outputs": [],
   "source": []
  }
 ],
 "metadata": {
  "accelerator": "GPU",
  "colab": {
   "authorship_tag": "ABX9TyP5pP21KdA5S82+MVCnEAMG",
   "provenance": []
  },
  "kernelspec": {
   "display_name": "Python (linus_env)",
   "language": "python",
   "name": "linus_env"
  },
  "language_info": {
   "codemirror_mode": {
    "name": "ipython",
    "version": 3
   },
   "file_extension": ".py",
   "mimetype": "text/x-python",
   "name": "python",
   "nbconvert_exporter": "python",
   "pygments_lexer": "ipython3",
   "version": "3.8.10"
  }
 },
 "nbformat": 4,
 "nbformat_minor": 1
}
